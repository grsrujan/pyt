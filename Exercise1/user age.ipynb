{
 "cells": [
  {
   "cell_type": "code",
   "execution_count": 10,
   "metadata": {},
   "outputs": [
    {
     "name": "stdout",
     "output_type": "stream",
     "text": [
      "Enter your name:a\n",
      "Enter your age : 1\n",
      "Current date :  2017\n",
      "Your age will reach 100 in the year : 2116\n"
     ]
    }
   ],
   "source": [
    "import datetime\n",
    "name=input(\"Enter your name:\")\n",
    "age=int(input(\"Enter your age : \"))\n",
    "current_dt=datetime.datetime.now().year\n",
    "print(\"Current date : \",current_dt)\n",
    "year100=current_yr+100-age\n",
    "print(\"Your age will reach 100 in the year :\",year100)"
   ]
  },
  {
   "cell_type": "code",
   "execution_count": null,
   "metadata": {
    "collapsed": true
   },
   "outputs": [],
   "source": []
  },
  {
   "cell_type": "code",
   "execution_count": null,
   "metadata": {
    "collapsed": true
   },
   "outputs": [],
   "source": []
  }
 ],
 "metadata": {
  "kernelspec": {
   "display_name": "Python 3",
   "language": "python",
   "name": "python3"
  },
  "language_info": {
   "codemirror_mode": {
    "name": "ipython",
    "version": 3
   },
   "file_extension": ".py",
   "mimetype": "text/x-python",
   "name": "python",
   "nbconvert_exporter": "python",
   "pygments_lexer": "ipython3",
   "version": "3.6.1"
  }
 },
 "nbformat": 4,
 "nbformat_minor": 2
}
