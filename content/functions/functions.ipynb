{
 "cells": [
  {
   "cell_type": "code",
   "execution_count": 5,
   "metadata": {},
   "outputs": [
    {
     "name": "stdout",
     "output_type": "stream",
     "text": [
      "this is test fnctn\n",
      "docstring: optional documentation string to describe what the function does\n"
     ]
    }
   ],
   "source": [
    "def test(): # function with no arguments\n",
    "    \"\"\"docstring: optional documentation string to describe what the function does\"\"\"\n",
    "    print(\"this is test fnctn\")\n",
    "    \n",
    "test()\n",
    "print(test.__doc__)"
   ]
  },
  {
   "cell_type": "code",
   "execution_count": null,
   "metadata": {
    "collapsed": true
   },
   "outputs": [],
   "source": [
    "def test(a): # function with argument\n",
    "    print(\"The value of a is :\",a)\n",
    "test(31)"
   ]
  },
  {
   "cell_type": "code",
   "execution_count": null,
   "metadata": {
    "collapsed": true
   },
   "outputs": [],
   "source": [
    "def test(a,b=100): # function with default value\n",
    "    print(\"the value of a and b is :\",a,b)\n",
    "test(20)\n",
    "test(50,500)"
   ]
  },
  {
   "cell_type": "code",
   "execution_count": null,
   "metadata": {
    "collapsed": true
   },
   "outputs": [],
   "source": [
    "# GLOBAL AND local variables\n",
    "a=100\n",
    "\n",
    "def test():\n",
    "    b=20 # scope of variable b is within this function\n",
    "    a=2\n",
    "    print(\"The value of a inside function is :\",a)\n",
    "    print(\"The value of b is :\",b)\n",
    "test()\n",
    "print(\"The value of a outside function is:\",a)\n",
    "\n",
    "print(\"The value of b outside function is:\",b)"
   ]
  },
  {
   "cell_type": "code",
   "execution_count": null,
   "metadata": {
    "collapsed": true
   },
   "outputs": [],
   "source": [
    "# changing global variable value using global keyword inside a function\n",
    "a=100\n",
    "\n",
    "def test():\n",
    "    b=20\n",
    "    global a\n",
    "    a=2\n",
    "    print(\"The value of a inside function is :\",a)\n",
    "    print(\"The value of b is :\",b)\n",
    "test()\n",
    "print(\"The value of a outside function is:\",a)"
   ]
  },
  {
   "cell_type": "code",
   "execution_count": null,
   "metadata": {
    "collapsed": true
   },
   "outputs": [],
   "source": [
    "# adding elements to empty list(accepts duplicates)\n",
    "\n",
    "alist=[]\n",
    "def add(ip):\n",
    "    alist.append(ip)\n",
    "    print(alist.append(ip))\n",
    "userip=int(input())\n",
    "add(userip)\n",
    "print(alist)"
   ]
  },
  {
   "cell_type": "code",
   "execution_count": 2,
   "metadata": {},
   "outputs": [
    {
     "name": "stdout",
     "output_type": "stream",
     "text": [
      "Hi , You\n"
     ]
    }
   ],
   "source": [
    "def hello(greeting,name='You'):\n",
    "    return '{} , {}'.format(greeting,name)\n",
    "print(hello('Hi'))"
   ]
  },
  {
   "cell_type": "code",
   "execution_count": 3,
   "metadata": {},
   "outputs": [
    {
     "name": "stdout",
     "output_type": "stream",
     "text": [
      "Hi , virat\n"
     ]
    }
   ],
   "source": [
    "def hello(greeting,name='You'):\n",
    "    return '{} , {}'.format(greeting,name)\n",
    "print(hello('Hi','virat'))"
   ]
  }
 ],
 "metadata": {
  "kernelspec": {
   "display_name": "Python 3",
   "language": "python",
   "name": "python3"
  },
  "language_info": {
   "codemirror_mode": {
    "name": "ipython",
    "version": 3
   },
   "file_extension": ".py",
   "mimetype": "text/x-python",
   "name": "python",
   "nbconvert_exporter": "python",
   "pygments_lexer": "ipython3",
   "version": "3.6.1"
  }
 },
 "nbformat": 4,
 "nbformat_minor": 2
}
