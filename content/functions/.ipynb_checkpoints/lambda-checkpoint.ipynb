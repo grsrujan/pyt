{
 "cells": [
  {
   "cell_type": "markdown",
   "metadata": {},
   "source": [
    "* Anonymous function is a function that is defined without a name.\n",
    "* Normal functions are defined using def keyword but anonymous functions are defined using lambda keyword\n",
    "* It can have any number of arguments but only one expression.\n",
    "\n",
    "##### syntax:\n",
    " ###### lambda arguments : expression"
   ]
  },
  {
   "cell_type": "code",
   "execution_count": 14,
   "metadata": {},
   "outputs": [
    {
     "name": "stdout",
     "output_type": "stream",
     "text": [
      "6\n",
      "5\n"
     ]
    }
   ],
   "source": [
    "a = lambda x : x * 2\n",
    "\n",
    "print(a(3))\n",
    "\n",
    "ab = lambda x,y : x+y\n",
    "print(ab(2,3))"
   ]
  },
  {
   "cell_type": "markdown",
   "metadata": {},
   "source": [
    "#### Applying filter on lambda function"
   ]
  },
  {
   "cell_type": "code",
   "execution_count": 12,
   "metadata": {},
   "outputs": [
    {
     "name": "stdout",
     "output_type": "stream",
     "text": [
      "[2, 4, 6, 8]\n"
     ]
    }
   ],
   "source": [
    "# filter elements from list b \n",
    "# filter will take function and a list as arguments returns list\n",
    "\n",
    "b = [1,2,3,4,5,6,7,8]\n",
    "c = list(filter(lambda y : y % 2 == 0 , b))\n",
    "print(c)"
   ]
  },
  {
   "cell_type": "markdown",
   "metadata": {},
   "source": [
    "####  Applying map on lambda function"
   ]
  },
  {
   "cell_type": "code",
   "execution_count": 13,
   "metadata": {},
   "outputs": [
    {
     "name": "stdout",
     "output_type": "stream",
     "text": [
      "[3, 4, 5, 6, 7, 8, 9, 10]\n"
     ]
    }
   ],
   "source": [
    "# increment each element in b list\n",
    "# map will take function and a list as argument returns list\n",
    "\n",
    "b = [1,2,3,4,5,6,7,8]\n",
    "d = list(map(lambda x : x+2, b))\n",
    "print(d)"
   ]
  },
  {
   "cell_type": "markdown",
   "metadata": {},
   "source": [
    "#### Applying reduce on lambda function"
   ]
  },
  {
   "cell_type": "code",
   "execution_count": 23,
   "metadata": {},
   "outputs": [
    {
     "name": "stdout",
     "output_type": "stream",
     "text": [
      "36\n",
      "5050\n"
     ]
    }
   ],
   "source": [
    "# Reduce will take function and a list as argument returns single element\n",
    "\n",
    "from functools import reduce\n",
    "\n",
    "b = [1,2,3,4,5,6,7,8]\n",
    "\n",
    "e = reduce(lambda x,y : x+y , b)\n",
    "print(e)\n",
    "\n",
    "# sum of first 100 numbers\n",
    "\n",
    "snum = reduce(lambda x,y : x+y , range(101))\n",
    "print(snum)"
   ]
  },
  {
   "cell_type": "code",
   "execution_count": null,
   "metadata": {
    "collapsed": true
   },
   "outputs": [],
   "source": []
  }
 ],
 "metadata": {
  "kernelspec": {
   "display_name": "Python 3",
   "language": "python",
   "name": "python3"
  },
  "language_info": {
   "codemirror_mode": {
    "name": "ipython",
    "version": 3
   },
   "file_extension": ".py",
   "mimetype": "text/x-python",
   "name": "python",
   "nbconvert_exporter": "python",
   "pygments_lexer": "ipython3",
   "version": "3.6.1"
  }
 },
 "nbformat": 4,
 "nbformat_minor": 2
}
