{
 "cells": [
  {
   "cell_type": "markdown",
   "metadata": {},
   "source": [
    "a=3\n",
    "print(type(a))\n",
    "addition\n",
    "subtraction\n",
    "multiplication\n",
    "division\n",
    "floor division\n",
    "exponent\n",
    "modulus:abs\n",
    "round\n",
    "\n",
    "\n",
    "comparisions\n",
    "equal\n",
    "not equal\n",
    "greater than\n",
    "less than\n",
    "greater or equal\n",
    "less or equal\n",
    "\n"
   ]
  }
 ],
 "metadata": {
  "kernelspec": {
   "display_name": "Python 3",
   "language": "python",
   "name": "python3"
  },
  "language_info": {
   "codemirror_mode": {
    "name": "ipython",
    "version": 3
   },
   "file_extension": ".py",
   "mimetype": "text/x-python",
   "name": "python",
   "nbconvert_exporter": "python",
   "pygments_lexer": "ipython3",
   "version": "3.6.1"
  }
 },
 "nbformat": 4,
 "nbformat_minor": 2
}
