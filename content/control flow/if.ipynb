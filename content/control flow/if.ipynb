{
 "cells": [
  {
   "cell_type": "code",
   "execution_count": 15,
   "metadata": {},
   "outputs": [
    {
     "name": "stdout",
     "output_type": "stream",
     "text": [
      "condition is false\n"
     ]
    }
   ],
   "source": [
    "val = 'python'\n",
    "vab = 'pyt'\n",
    "if val == 'python' and vab == 'java':\n",
    "    print(\"condition is true\")\n",
    "else:\n",
    "    print(\"condition is false\")"
   ]
  },
  {
   "cell_type": "code",
   "execution_count": null,
   "metadata": {
    "collapsed": true
   },
   "outputs": [],
   "source": [
    "a=2\n",
    "b=3\n",
    "c=5\n",
    "if a > b:\n",
    "    print('a is greater than b')\n",
    "elif b < c:\n",
    "    print('c is greater than b')"
   ]
  },
  {
   "cell_type": "code",
   "execution_count": 10,
   "metadata": {},
   "outputs": [
    {
     "name": "stdout",
     "output_type": "stream",
     "text": [
      "Enter the number : 0\n",
      "The entered number is zero\n"
     ]
    }
   ],
   "source": [
    "# check whether entered number is positive or negative\n",
    "\n",
    "x=int(input(\"Enter the number : \"))\n",
    "\n",
    "if x > 0:\n",
    "    print(\"The entered number is positive\")\n",
    "elif x==0:\n",
    "    print(\"The entered number is zero\")\n",
    "else:\n",
    "    print(\"The entered number is negative\")"
   ]
  }
 ],
 "metadata": {
  "kernelspec": {
   "display_name": "Python 3",
   "language": "python",
   "name": "python3"
  },
  "language_info": {
   "codemirror_mode": {
    "name": "ipython",
    "version": 3
   },
   "file_extension": ".py",
   "mimetype": "text/x-python",
   "name": "python",
   "nbconvert_exporter": "python",
   "pygments_lexer": "ipython3",
   "version": "3.6.1"
  }
 },
 "nbformat": 4,
 "nbformat_minor": 2
}
