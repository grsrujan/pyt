{
 "cells": [
  {
   "cell_type": "markdown",
   "metadata": {},
   "source": [
    "* A sequence of characters that defines a search pattern in a body of text"
   ]
  },
  {
   "cell_type": "markdown",
   "metadata": {},
   "source": [
    "literal character\n",
    "\n",
    "## meta characters\n",
    "* position\n",
    "* single character\n",
    "* quantifiers\n",
    "* character classes\n",
    "* alternation\n",
    "* capturing groups and back reference\n",
    "\n",
    "\\d --> matches any decimal digit (0-9) <br>\n",
    "\\D -->  matches any non digit character [^0-9] <br>\n",
    "\\w --> matches any alphanumeric character [a-zA-Z0-9] <br>\n",
    "\\W --> matches any non-alphanumeric character [^a-zA-Z0-9] <br>\n",
    "\\s --> matches any whitespace character (\\t\\n\\r\\f\\v) <br>\n",
    "\\S --> matches any non-whitespace character(^\\t\\n\\r\\f\\v)\n",
    "\n",
    "## quantifiers\n",
    "\n",
    "->> * --> 0 or more <br>\n",
    "--> + --> 1 or more <br>\n",
    "--> ? --> 0 or 1 <br>\n",
    "--> . --> any character\n",
    "--> [] --> used to indicate a set of characters ex:- [abc] will match 'a', 'b' or 'c'\n",
    "-- > | -->\n",
    "\n",
    "\n",
    "## position\n",
    "\n",
    "^ --> beginning <br>\n",
    "$ --> end <br>\n",
    "\\b --> word boundary <br>\n"
   ]
  },
  {
   "cell_type": "code",
   "execution_count": 40,
   "metadata": {
    "scrolled": true
   },
   "outputs": [
    {
     "name": "stdout",
     "output_type": "stream",
     "text": [
      "<_sre.SRE_Match object; span=(16, 28), match='888-777-8888'>\n",
      "<_sre.SRE_Match object; span=(16, 28), match='888-777-8888'>\n",
      "<_sre.SRE_Match object; span=(50, 63), match='(666)555-3333'>\n",
      "<_sre.SRE_Match object; span=(0, 16), match='srujan@gmail.com'>\n"
     ]
    }
   ],
   "source": [
    "import re\n",
    "t = \"office number : 888-777-8888 , home phone number :(666)555-3333\"\n",
    "one = r\"(\\d\\d\\d-\\d\\d\\d-\\d\\d\\d\\d)\"\n",
    "\n",
    "onee = r\"(\\d{3}-\\d{3}-\\d{4})\"\n",
    "\n",
    "two = r\"(\\(?\\d{3}[)]\\d{3}-\\d{4})\"\n",
    "\n",
    "\n",
    "print(re.search(one,t))\n",
    "\n",
    "print(re.search(onee,t))\n",
    "\n",
    "print(re.search(two,t))\n",
    "\n",
    "\n",
    "mail = \"srujan@gmail.com , srujan.sid@yahoo.in,srujan@hotmail.net,srujan@outlook.com\"\n",
    "\n",
    "r = r\"[\\w.]+@\\w+\\.(com|in|net)\"\n",
    "\n",
    "print(re.search(r,mail))"
   ]
  },
  {
   "cell_type": "code",
   "execution_count": null,
   "metadata": {
    "collapsed": true
   },
   "outputs": [],
   "source": [
    "## Matching a string\n",
    "\n",
    "search()\n",
    "MatchObject()\n"
   ]
  },
  {
   "cell_type": "code",
   "execution_count": null,
   "metadata": {
    "collapsed": true
   },
   "outputs": [],
   "source": [
    "## Capturing groups\n",
    "findall() ---> used to perform global search over the whole input string\n",
    "finditer() ---> used to perform global search over the whole input string with additional context for each match"
   ]
  },
  {
   "cell_type": "code",
   "execution_count": null,
   "metadata": {
    "collapsed": true
   },
   "outputs": [],
   "source": [
    "## Finding and replacing strings\n",
    "sub() --> find and replace a part of string\n",
    "\n",
    "replacedString = re.sub(pattern, replacement_pattern, input_str, count, flags=0)"
   ]
  },
  {
   "cell_type": "code",
   "execution_count": 42,
   "metadata": {},
   "outputs": [
    {
     "ename": "SyntaxError",
     "evalue": "invalid syntax (<ipython-input-42-214bfef47dda>, line 10)",
     "output_type": "error",
     "traceback": [
      "\u001b[1;36m  File \u001b[1;32m\"<ipython-input-42-214bfef47dda>\"\u001b[1;36m, line \u001b[1;32m10\u001b[0m\n\u001b[1;33m    print re.sub(regex, r\"\\2 of \\1\", \"June 24, August 9, Dec 12\")\u001b[0m\n\u001b[1;37m           ^\u001b[0m\n\u001b[1;31mSyntaxError\u001b[0m\u001b[1;31m:\u001b[0m invalid syntax\n"
     ]
    }
   ],
   "source": [
    "import re\n",
    "# Lets try and reverse the order of the day and month in a date \n",
    "# string. Notice how the replacement string also contains metacharacters\n",
    "# (the back references to the captured groups) so we use a raw \n",
    "# string for that as well.\n",
    "regex = r\"([a-zA-Z]+)(\\d+)\"\n",
    "\n",
    "# This will reorder the string and print:\n",
    "#   24 of June, 9 of August, 12 of Dec\n",
    "print re.sub(regex, r\"\\2 of \\1\", \"June 24, August 9, Dec 12\")"
   ]
  },
  {
   "cell_type": "code",
   "execution_count": null,
   "metadata": {
    "collapsed": true
   },
   "outputs": [],
   "source": [
    "# re.compile(pattern, flags=0)\n",
    "--> Compile a regular expression pattern into a regular expression object"
   ]
  }
 ],
 "metadata": {
  "kernelspec": {
   "display_name": "Python 3",
   "language": "python",
   "name": "python3"
  },
  "language_info": {
   "codemirror_mode": {
    "name": "ipython",
    "version": 3
   },
   "file_extension": ".py",
   "mimetype": "text/x-python",
   "name": "python",
   "nbconvert_exporter": "python",
   "pygments_lexer": "ipython3",
   "version": "3.6.1"
  }
 },
 "nbformat": 4,
 "nbformat_minor": 2
}
