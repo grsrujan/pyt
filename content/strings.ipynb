{
 "cells": [
  {
   "cell_type": "markdown",
   "metadata": {},
   "source": [
    "* we can define strings in python using single or double quotes. Python don't have separate datatypes for characters so they will be represented with single character.\n",
    "* strings in python are immutable."
   ]
  },
  {
   "cell_type": "markdown",
   "metadata": {},
   "source": [
    "#### creating strings"
   ]
  },
  {
   "cell_type": "code",
   "execution_count": 30,
   "metadata": {
    "collapsed": true
   },
   "outputs": [],
   "source": [
    "s = \"virat kohli\" # string\n",
    "\n",
    "cha = 'a' # char\n",
    "\n",
    "empt = str() # creates an empty string object\n",
    "nem = str(\"ss\") # creates string object which contains \"ss\" \n"
   ]
  },
  {
   "cell_type": "code",
   "execution_count": 1,
   "metadata": {},
   "outputs": [
    {
     "ename": "SyntaxError",
     "evalue": "invalid syntax (<ipython-input-1-e4c6305b6607>, line 7)",
     "output_type": "error",
     "traceback": [
      "\u001b[1;36m  File \u001b[1;32m\"<ipython-input-1-e4c6305b6607>\"\u001b[1;36m, line \u001b[1;32m7\u001b[0m\n\u001b[1;33m    string interpolation\u001b[0m\n\u001b[1;37m                       ^\u001b[0m\n\u001b[1;31mSyntaxError\u001b[0m\u001b[1;31m:\u001b[0m invalid syntax\n"
     ]
    }
   ],
   "source": [
    "{},format\n",
    "string interpolation\n",
    "dir(variable)\n",
    "help(str.lower)"
   ]
  },
  {
   "cell_type": "markdown",
   "metadata": {},
   "source": [
    "#### title , upper , lower , capitalize , swap case"
   ]
  },
  {
   "cell_type": "code",
   "execution_count": 45,
   "metadata": {},
   "outputs": [
    {
     "name": "stdout",
     "output_type": "stream",
     "text": [
      "This Will Be In Camel Case\n",
      "IT IS RAINING SINCE MORNING\n",
      "virat kohli\n",
      "Virat kohli\n",
      "virat kohli\n",
      "YUVRAJ SINGH\n"
     ]
    }
   ],
   "source": [
    "camcase = \"this will be in camel case\"\n",
    "\n",
    "print(camcase.title())\n",
    "\n",
    "sid = \"It is raining since morning\"\n",
    "\n",
    "print(sid.upper())\n",
    "\n",
    "name = \"VIRAT KOHLI\"\n",
    "\n",
    "print(name.lower())\n",
    "\n",
    "name = \"virat kohli\"\n",
    "\n",
    "print(name.capitalize())\n",
    "\n",
    "name = \"VIRAT KOHLI\"\n",
    "\n",
    "name1 = 'yuvraj singh'\n",
    "\n",
    "print(name.swapcase())\n",
    "print(name1.swapcase())"
   ]
  },
  {
   "cell_type": "markdown",
   "metadata": {},
   "source": [
    "#### concat"
   ]
  },
  {
   "cell_type": "code",
   "execution_count": 9,
   "metadata": {},
   "outputs": [
    {
     "name": "stdout",
     "output_type": "stream",
     "text": [
      "virat kohli\n"
     ]
    }
   ],
   "source": [
    "fname = 'virat'\n",
    "sname = 'kohli'\n",
    "\n",
    "print(fname +' '+sname)"
   ]
  },
  {
   "cell_type": "markdown",
   "metadata": {},
   "source": [
    "#### strip"
   ]
  },
  {
   "cell_type": "code",
   "execution_count": 27,
   "metadata": {},
   "outputs": [
    {
     "name": "stdout",
     "output_type": "stream",
     "text": [
      "  virat\n",
      "virat\n",
      "kohli  \n",
      "kohli\n",
      "virat kohli\n"
     ]
    }
   ],
   "source": [
    "fname = '  virat'\n",
    "print(fname)\n",
    "#left strip\n",
    "print(fname.lstrip())\n",
    "\n",
    "sname = 'kohli  '\n",
    "print(sname)\n",
    "# right strip\n",
    "print(sname.rstrip())\n",
    "\n",
    "name = '     virat kohli   '\n",
    "\n",
    "print(name.strip())"
   ]
  },
  {
   "cell_type": "code",
   "execution_count": null,
   "metadata": {
    "collapsed": true
   },
   "outputs": [],
   "source": []
  },
  {
   "cell_type": "markdown",
   "metadata": {},
   "source": [
    "#### count"
   ]
  },
  {
   "cell_type": "code",
   "execution_count": 26,
   "metadata": {},
   "outputs": [
    {
     "name": "stdout",
     "output_type": "stream",
     "text": [
      "1\n"
     ]
    }
   ],
   "source": [
    "name = \"VIRAT KOHLI\"\n",
    "\n",
    "print(name.count(\"V\"))"
   ]
  },
  {
   "cell_type": "markdown",
   "metadata": {},
   "source": [
    "#### split on strings"
   ]
  },
  {
   "cell_type": "code",
   "execution_count": 1,
   "metadata": {},
   "outputs": [
    {
     "name": "stdout",
     "output_type": "stream",
     "text": [
      "['It', 'is', 'raining', 'outside']\n"
     ]
    }
   ],
   "source": [
    "sent = 'It is raining outside'\n",
    "words = sent.split()\n",
    "print(words)"
   ]
  },
  {
   "cell_type": "markdown",
   "metadata": {},
   "source": [
    "#### find"
   ]
  },
  {
   "cell_type": "markdown",
   "metadata": {},
   "source": [
    "#### replace"
   ]
  },
  {
   "cell_type": "code",
   "execution_count": 29,
   "metadata": {},
   "outputs": [
    {
     "name": "stdout",
     "output_type": "stream",
     "text": [
      "king kohli\n"
     ]
    }
   ],
   "source": [
    "s = \"virat kohli\"\n",
    "\n",
    "print(s.replace(\"virat\",\"king\"))"
   ]
  },
  {
   "cell_type": "markdown",
   "metadata": {},
   "source": [
    "#### startswith, endswith"
   ]
  },
  {
   "cell_type": "code",
   "execution_count": 22,
   "metadata": {},
   "outputs": [
    {
     "name": "stdout",
     "output_type": "stream",
     "text": [
      "True\n"
     ]
    }
   ],
   "source": [
    "test = 'virat'\n",
    "\n",
    "print(test.startswith('vi'))\n",
    "\n",
    "print(test.endswith('at'))"
   ]
  },
  {
   "cell_type": "markdown",
   "metadata": {},
   "source": [
    "#### partition"
   ]
  },
  {
   "cell_type": "code",
   "execution_count": 19,
   "metadata": {
    "scrolled": true
   },
   "outputs": [
    {
     "name": "stdout",
     "output_type": "stream",
     "text": [
      "('virat', ' ', 'kohli cricketer')\n"
     ]
    }
   ],
   "source": [
    "b = 'virat kohli cricketer'\n",
    "\n",
    "print(b.partition(' '))"
   ]
  },
  {
   "cell_type": "markdown",
   "metadata": {},
   "source": [
    "#### zfill"
   ]
  },
  {
   "cell_type": "code",
   "execution_count": 23,
   "metadata": {},
   "outputs": [
    {
     "name": "stdout",
     "output_type": "stream",
     "text": [
      "00000virat\n"
     ]
    }
   ],
   "source": [
    "name = 'virat'\n",
    "\n",
    "print(name.zfill(10))"
   ]
  },
  {
   "cell_type": "markdown",
   "metadata": {},
   "source": [
    "#### len , max , min"
   ]
  },
  {
   "cell_type": "code",
   "execution_count": 44,
   "metadata": {},
   "outputs": [
    {
     "name": "stdout",
     "output_type": "stream",
     "text": [
      "10\n",
      "v\n",
      "a\n"
     ]
    }
   ],
   "source": [
    "name = 'viratkohli'\n",
    "print(len(name))\n",
    "print(max(name))\n",
    "print(min(name))"
   ]
  },
  {
   "cell_type": "markdown",
   "metadata": {},
   "source": [
    "#### in , not in "
   ]
  },
  {
   "cell_type": "code",
   "execution_count": 43,
   "metadata": {},
   "outputs": [
    {
     "name": "stdout",
     "output_type": "stream",
     "text": [
      "True\n",
      "False\n"
     ]
    }
   ],
   "source": [
    "name = \"virat kohli\"\n",
    "print(\"virat\" in name)\n",
    "\n",
    "print(\"virat\" not in name)"
   ]
  },
  {
   "cell_type": "markdown",
   "metadata": {},
   "source": [
    "## istitle ,isupper,islower,isspace,isalpha,isdigit"
   ]
  }
 ],
 "metadata": {
  "kernelspec": {
   "display_name": "Python 3",
   "language": "python",
   "name": "python3"
  },
  "language_info": {
   "codemirror_mode": {
    "name": "ipython",
    "version": 3
   },
   "file_extension": ".py",
   "mimetype": "text/x-python",
   "name": "python",
   "nbconvert_exporter": "python",
   "pygments_lexer": "ipython3",
   "version": "3.6.1"
  }
 },
 "nbformat": 4,
 "nbformat_minor": 2
}
