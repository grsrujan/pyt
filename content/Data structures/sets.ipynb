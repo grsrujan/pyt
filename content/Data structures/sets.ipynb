{
 "cells": [
  {
   "cell_type": "markdown",
   "metadata": {},
   "source": [
    "## sets\n",
    "* An unordered collection with no duplicate elements.\n",
    "* Curly braces{} or the set() function can be used to create sets.\n",
    "* To create an empty set you have to use set(), not {}. {} will create empty dictonary."
   ]
  },
  {
   "cell_type": "markdown",
   "metadata": {},
   "source": [
    "### Creating An empty set"
   ]
  },
  {
   "cell_type": "code",
   "execution_count": 2,
   "metadata": {},
   "outputs": [
    {
     "name": "stdout",
     "output_type": "stream",
     "text": [
      "set()\n"
     ]
    }
   ],
   "source": [
    "tset=set()\n",
    "print(tset)"
   ]
  },
  {
   "cell_type": "code",
   "execution_count": 3,
   "metadata": {},
   "outputs": [
    {
     "name": "stdout",
     "output_type": "stream",
     "text": [
      "{'dhoni', 'rohit', 'virat', 'jadeja', 'dhawan'}\n"
     ]
    }
   ],
   "source": [
    "# removes duplicates\n",
    "players={'virat','dhawan','rohit','dhoni','jadeja','virat','dhoni'}\n",
    "\n",
    "print(players)"
   ]
  },
  {
   "cell_type": "markdown",
   "metadata": {
    "collapsed": true
   },
   "source": [
    "### Intersection"
   ]
  },
  {
   "cell_type": "code",
   "execution_count": 5,
   "metadata": {},
   "outputs": [
    {
     "data": {
      "text/plain": [
       "{'jadeja', 'virat'}"
      ]
     },
     "execution_count": 5,
     "metadata": {},
     "output_type": "execute_result"
    }
   ],
   "source": [
    "batsman={'virat','dhawan','rohit','dhoni','jadeja','virat','dhoni'}\n",
    "allrounder={'virat','jadeja','virat'}\n",
    "batsman.intersection(allrounder)"
   ]
  },
  {
   "cell_type": "markdown",
   "metadata": {},
   "source": [
    "### Difference"
   ]
  },
  {
   "cell_type": "code",
   "execution_count": 9,
   "metadata": {},
   "outputs": [
    {
     "data": {
      "text/plain": [
       "{'dhawan', 'dhoni', 'rohit'}"
      ]
     },
     "execution_count": 9,
     "metadata": {},
     "output_type": "execute_result"
    }
   ],
   "source": [
    "batsman={'virat','dhawan','rohit','dhoni','jadeja','virat','dhoni'}\n",
    "allrounder={'virat','jadeja','virat'}\n",
    "batsman.difference(allrounder)"
   ]
  },
  {
   "cell_type": "markdown",
   "metadata": {},
   "source": [
    "### Union"
   ]
  },
  {
   "cell_type": "code",
   "execution_count": 18,
   "metadata": {},
   "outputs": [
    {
     "data": {
      "text/plain": [
       "{'dhawan', 'dhoni', 'hardik', 'jadeja', 'rohit', 'virat'}"
      ]
     },
     "execution_count": 18,
     "metadata": {},
     "output_type": "execute_result"
    }
   ],
   "source": [
    "batsman={'virat','dhawan','rohit','dhoni','jadeja','virat','dhoni'}\n",
    "allrounder={'virat','jadeja','hardik'}\n",
    "batsman.union(allrounder)"
   ]
  }
 ],
 "metadata": {
  "kernelspec": {
   "display_name": "Python 3",
   "language": "python",
   "name": "python3"
  },
  "language_info": {
   "codemirror_mode": {
    "name": "ipython",
    "version": 3
   },
   "file_extension": ".py",
   "mimetype": "text/x-python",
   "name": "python",
   "nbconvert_exporter": "python",
   "pygments_lexer": "ipython3",
   "version": "3.6.1"
  }
 },
 "nbformat": 4,
 "nbformat_minor": 2
}
