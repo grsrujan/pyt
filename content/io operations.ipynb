{
 "cells": [
  {
   "cell_type": "markdown",
   "metadata": {},
   "source": [
    "### WRITING TO A FILE"
   ]
  },
  {
   "cell_type": "code",
   "execution_count": 5,
   "metadata": {},
   "outputs": [],
   "source": [
    "sample='add this text to existing file'\n",
    "fopen=open('C:\\\\Users\\\\srujan\\\\Desktop\\\\test\\\\test.txt','w')\n",
    "fopen.write(sample)\n",
    "fopen.close()"
   ]
  },
  {
   "cell_type": "markdown",
   "metadata": {},
   "source": [
    "### READING FROM A FILE"
   ]
  },
  {
   "cell_type": "code",
   "execution_count": 13,
   "metadata": {},
   "outputs": [
    {
     "name": "stdout",
     "output_type": "stream",
     "text": [
      "add this text to existing fileAPPENDING DATA TO EXISTING FILE\n",
      " APPENDING DATA TO EXISTING FILE\n"
     ]
    }
   ],
   "source": [
    "fopen=open('C:\\\\Users\\\\srujan\\\\Desktop\\\\test\\\\test.txt','r').read()\n",
    "print(fopen)"
   ]
  },
  {
   "cell_type": "code",
   "execution_count": 15,
   "metadata": {},
   "outputs": [
    {
     "name": "stdout",
     "output_type": "stream",
     "text": [
      "['add this text to existing fileAPPENDING DATA TO EXISTING FILE\\n', ' APPENDING DATA TO EXISTING FILE']\n"
     ]
    }
   ],
   "source": [
    "# reading file into python list\n",
    "fopen=open('C:\\\\Users\\\\srujan\\\\Desktop\\\\test\\\\test.txt','r').readlines()\n",
    "print(fopen)"
   ]
  },
  {
   "cell_type": "markdown",
   "metadata": {},
   "source": [
    "### APPENDING TO A FILE"
   ]
  },
  {
   "cell_type": "code",
   "execution_count": 10,
   "metadata": {
    "collapsed": true
   },
   "outputs": [],
   "source": [
    "sampl='\\n APPENDING DATA TO EXISTING FILE'\n",
    "fopen=open('C:\\\\Users\\\\srujan\\\\Desktop\\\\test\\\\test.txt','a')\n",
    "fopen.write(sampl)\n",
    "fopen.close()"
   ]
  }
 ],
 "metadata": {
  "kernelspec": {
   "display_name": "Python 3",
   "language": "python",
   "name": "python3"
  },
  "language_info": {
   "codemirror_mode": {
    "name": "ipython",
    "version": 3
   },
   "file_extension": ".py",
   "mimetype": "text/x-python",
   "name": "python",
   "nbconvert_exporter": "python",
   "pygments_lexer": "ipython3",
   "version": "3.6.1"
  }
 },
 "nbformat": 4,
 "nbformat_minor": 2
}
