{
 "cells": [
  {
   "cell_type": "code",
   "execution_count": 4,
   "metadata": {},
   "outputs": [
    {
     "name": "stdout",
     "output_type": "stream",
     "text": [
      "<__main__.Employee object at 0x00000210D6107438>\n",
      "<__main__.Employee object at 0x00000210D612B358>\n",
      "virat\n",
      "hardik\n"
     ]
    }
   ],
   "source": [
    "class Employee:\n",
    "    pass\n",
    "emp1 = Employee() # intance variable will be uniqueb\n",
    "emp2 = Employee()\n",
    "\n",
    "print(emp1)\n",
    "print(emp2)\n",
    "\n",
    "emp1.first = 'virat'\n",
    "emp1.last = 'kohli'\n",
    "emp1.sal = '100000'\n",
    "\n",
    "emp2.first = 'hardik'\n",
    "emp2.last = 'pandya'\n",
    "emp2.sal = '1000'\n",
    "\n",
    "print(emp1.first) # with this approach everytime we have to create separate attribute for each instance which will result in code duplicancy\n",
    "\n",
    "print(emp2.first)"
   ]
  },
  {
   "cell_type": "code",
   "execution_count": 10,
   "metadata": {},
   "outputs": [
    {
     "name": "stdout",
     "output_type": "stream",
     "text": [
      "<__main__.Employee object at 0x00000210D6133AC8>\n",
      "<__main__.Employee object at 0x00000210D61338D0>\n",
      "virat\n",
      "hardik\n",
      "virat , kohli\n"
     ]
    }
   ],
   "source": [
    "class Employee:\n",
    "    \n",
    "    def __init__(self,first,last,pay):\n",
    "        self.first = first   # self will be instance variable\n",
    "        self.last = last\n",
    "        self.pay = pay\n",
    "        self.email = first + '.' + last + '@company.com'\n",
    "emp1 = Employee('virat','kohli',100000)\n",
    "emp2 = Employee('hardik','pandya',1000)\n",
    "\n",
    "print(emp1)\n",
    "print(emp2)\n",
    "\n",
    "print(emp1.first)\n",
    "print(emp2.first)  # with this approach we got rid of lot of code\n",
    "\n",
    "print('{} , {}'.format(emp1.first,emp1.last))  # two {} are placeholders by using format method we can pass values "
   ]
  },
  {
   "cell_type": "code",
   "execution_count": 19,
   "metadata": {},
   "outputs": [
    {
     "name": "stdout",
     "output_type": "stream",
     "text": [
      "<__main__.Employee object at 0x00000210D61DDCF8>\n",
      "<__main__.Employee object at 0x00000210D61DDD68>\n",
      "virat , kohli\n",
      "hardik , pandya\n"
     ]
    }
   ],
   "source": [
    "class Employee:\n",
    "    \n",
    "    def __init__(self,first,last,pay):\n",
    "        self.first = first   # self will be instance variable\n",
    "        self.last = last\n",
    "        self.pay = pay\n",
    "        self.email = first + '.' + last + '@company.com'\n",
    "    \n",
    "    def fullname(self):\n",
    "        return '{} , {}'.format(self.first,self.last)\n",
    "    \n",
    "emp1 = Employee('virat','kohli',100000)\n",
    "emp2 = Employee('hardik','pandya',1000)\n",
    "\n",
    "print(emp1)\n",
    "print(emp2)\n",
    "print(emp1.fullname())\n",
    "print(emp2.fullname())\n"
   ]
  },
  {
   "cell_type": "code",
   "execution_count": 22,
   "metadata": {},
   "outputs": [
    {
     "name": "stdout",
     "output_type": "stream",
     "text": [
      "virat , kohli\n",
      "<__main__.Employee object at 0x00000210D552D0F0>\n",
      "virat , kohli\n",
      "hardik , pandya\n"
     ]
    }
   ],
   "source": [
    "class Employee:\n",
    "    \n",
    "    def __init__(self,first,last,pay):\n",
    "        self.first = first   # self will be instance variable\n",
    "        self.last = last\n",
    "        self.pay = pay\n",
    "        self.email = first + '.' + last + '@company.com'\n",
    "    \n",
    "    def fullname(self):\n",
    "        return '{} , {}'.format(self.first,self.last)\n",
    "    \n",
    "emp1 = Employee('virat','kohli',100000)\n",
    "emp2 = Employee('hardik','pandya',1000)\n",
    "\n",
    "print(emp1.fullname())\n",
    "print(emp2)\n",
    "print(Employee.fullname(emp1))\n",
    "print(Employee.fullname(emp2))\n"
   ]
  },
  {
   "cell_type": "code",
   "execution_count": null,
   "metadata": {
    "collapsed": true
   },
   "outputs": [],
   "source": [
    "# class variables are variables which are shared among instances of a class\n",
    "# instance variables can be unique for each instance\n"
   ]
  },
  {
   "cell_type": "code",
   "execution_count": 26,
   "metadata": {},
   "outputs": [
    {
     "name": "stdout",
     "output_type": "stream",
     "text": [
      "100000\n",
      "104000\n"
     ]
    }
   ],
   "source": [
    "class Employee:\n",
    "    \n",
    "    raise_amount = 1.04\n",
    "    \n",
    "    def __init__(self,first,last,pay):\n",
    "        self.first = first   # self will be instance variable\n",
    "        self.last = last\n",
    "        self.pay = pay\n",
    "        self.email = first + '.' + last + '@company.com'\n",
    "    \n",
    "    def fullname(self):\n",
    "        return '{} , {}'.format(self.first,self.last)\n",
    "    \n",
    "    def apply_raise(self):\n",
    "        self.pay = int(self.pay * Employee.raise_amount)   # we cannot access class varibles just by mentioning variable name\n",
    "    \n",
    "emp1 = Employee('virat','kohli',100000)\n",
    "emp2 = Employee('hardik','pandya',1000)\n",
    "print(emp1.pay)\n",
    "emp1.apply_raise()\n",
    "print(emp1.pay)"
   ]
  },
  {
   "cell_type": "code",
   "execution_count": 29,
   "metadata": {},
   "outputs": [
    {
     "name": "stdout",
     "output_type": "stream",
     "text": [
      "1.04\n",
      "1.04\n",
      "{'first': 'virat', 'last': 'kohli', 'pay': 100000, 'email': 'virat.kohli@company.com'}\n",
      "{'__module__': '__main__', 'raise_amount': 1.04, '__init__': <function Employee.__init__ at 0x00000210D61BCA60>, 'fullname': <function Employee.fullname at 0x00000210D61BC730>, 'apply_raise': <function Employee.apply_raise at 0x00000210D61BCD90>, '__dict__': <attribute '__dict__' of 'Employee' objects>, '__weakref__': <attribute '__weakref__' of 'Employee' objects>, '__doc__': None}\n"
     ]
    }
   ],
   "source": [
    "class Employee:\n",
    "    \n",
    "    raise_amount = 1.04\n",
    "    \n",
    "    def __init__(self,first,last,pay):\n",
    "        self.first = first   # self will be instance variable\n",
    "        self.last = last\n",
    "        self.pay = pay\n",
    "        self.email = first + '.' + last + '@company.com'\n",
    "    \n",
    "    def fullname(self):\n",
    "        return '{} , {}'.format(self.first,self.last)\n",
    "    \n",
    "    def apply_raise(self):\n",
    "        self.pay = int(self.pay * Employee.raise_amount)   # we cannot access class varibles just by mentioning variable name\n",
    "    \n",
    "emp1 = Employee('virat','kohli',100000)\n",
    "emp2 = Employee('hardik','pandya',1000)\n",
    "print(Employee.raise_amount)\n",
    "\n",
    "print(emp1.raise_amount) # first instance variable will check if any attribute exists or not , if not exists it will check whther class contains any methods\n",
    "\n",
    "\n",
    "# To check the namespace\n",
    "\n",
    "print(emp1.__dict__)\n",
    "\n",
    "print(Employee.__dict__)"
   ]
  },
  {
   "cell_type": "code",
   "execution_count": 32,
   "metadata": {},
   "outputs": [
    {
     "name": "stdout",
     "output_type": "stream",
     "text": [
      "1.05\n",
      "1.05\n",
      "1.05\n"
     ]
    }
   ],
   "source": [
    "class Employee:\n",
    "    \n",
    "    raise_amount = 1.04\n",
    "    \n",
    "    def __init__(self,first,last,pay):\n",
    "        self.first = first   # self will be instance variable\n",
    "        self.last = last\n",
    "        self.pay = pay\n",
    "        self.email = first + '.' + last + '@company.com'\n",
    "    \n",
    "    def fullname(self):\n",
    "        return '{} , {}'.format(self.first,self.last)\n",
    "    \n",
    "    def apply_raise(self):\n",
    "        self.pay = int(self.pay * Employee.raise_amount)   # we cannot access class varibles just by mentioning variable name\n",
    "    \n",
    "emp1 = Employee('virat','kohli',100000)\n",
    "emp2 = Employee('hardik','pandya',1000)\n",
    "\n",
    "\n",
    "\n",
    "Employee.raise_amount = 1.05\n",
    "\n",
    "print(emp1.raise_amount)\n",
    "print(Employee.raise_amount)\n",
    "print(emp1.raise_amount) "
   ]
  },
  {
   "cell_type": "code",
   "execution_count": 35,
   "metadata": {},
   "outputs": [
    {
     "name": "stdout",
     "output_type": "stream",
     "text": [
      "0\n",
      "1.05\n",
      "1.04\n",
      "1.05\n",
      "2\n"
     ]
    }
   ],
   "source": [
    "class Employee:\n",
    "    \n",
    "    num_of_emps = 0\n",
    "    raise_amount = 1.04\n",
    "    \n",
    "    def __init__(self,first,last,pay):\n",
    "        self.first = first   # self will be instance variable\n",
    "        self.last = last\n",
    "        self.pay = pay\n",
    "        self.email = first + '.' + last + '@company.com'\n",
    "        \n",
    "        Employee.num_of_emps += 1\n",
    "    \n",
    "    def fullname(self):\n",
    "        return '{} , {}'.format(self.first,self.last)\n",
    "    \n",
    "    def apply_raise(self):\n",
    "        self.pay = int(self.pay * Employee.raise_amount)   # we cannot access class varibles just by mentioning variable name\n",
    "    \n",
    "    \n",
    "print(Employee.num_of_emps)\n",
    "\n",
    "emp1 = Employee('virat','kohli',100000)\n",
    "emp2 = Employee('hardik','pandya',1000)\n",
    "\n",
    "\n",
    "\n",
    "emp1.raise_amount = 1.05\n",
    "\n",
    "print(emp1.raise_amount)\n",
    "print(Employee.raise_amount)\n",
    "print(emp1.raise_amount) \n",
    "print(Employee.num_of_emps)"
   ]
  },
  {
   "cell_type": "code",
   "execution_count": null,
   "metadata": {
    "collapsed": true
   },
   "outputs": [],
   "source": []
  },
  {
   "cell_type": "code",
   "execution_count": null,
   "metadata": {
    "collapsed": true
   },
   "outputs": [],
   "source": []
  }
 ],
 "metadata": {
  "kernelspec": {
   "display_name": "Python 3",
   "language": "python",
   "name": "python3"
  },
  "language_info": {
   "codemirror_mode": {
    "name": "ipython",
    "version": 3
   },
   "file_extension": ".py",
   "mimetype": "text/x-python",
   "name": "python",
   "nbconvert_exporter": "python",
   "pygments_lexer": "ipython3",
   "version": "3.6.1"
  }
 },
 "nbformat": 4,
 "nbformat_minor": 2
}
